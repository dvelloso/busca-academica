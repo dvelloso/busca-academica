{
 "cells": [
  {
   "cell_type": "code",
   "execution_count": 10,
   "metadata": {},
   "outputs": [
    {
     "data": {
      "text/plain": [
       "200"
      ]
     },
     "execution_count": 10,
     "metadata": {},
     "output_type": "execute_result"
    }
   ],
   "source": [
    "import requests\n",
    "r = requests.get('https://httpbin.org/basic-auth/user/pass', auth=('user', 'pass'))\n",
    "r.status_code\n",
    "\n",
    "# r.headers['content-type']\n",
    "# r.encoding\n",
    "# r.text\n",
    "# r.json()"
   ]
  },
  {
   "cell_type": "code",
   "execution_count": 40,
   "metadata": {},
   "outputs": [
    {
     "name": "stdout",
     "output_type": "stream",
     "text": [
      "27390\n"
     ]
    }
   ],
   "source": [
    "import requests\n",
    "import pandas as pd\n",
    "import json\n",
    "\n",
    "r = requests.get('http://ieeexploreapi.ieee.org/api/v1/search/articles?querytext=java&format=json&apikey=2ry5drreqneft9t8tdn5xyuz&max_records=30000')\n",
    "r.status_code\n",
    "dict_df = r.json() # o response é a resposta do request\n",
    "total_registros = r.json()['total_records']\n",
    "print(total_registros)\n",
    "# dict_df = dict_df['articles']\n",
    "# df = pd.json_normalize(dict_df)\n",
    "# print(df.shape)\n",
    "\n",
    "\n"
   ]
  },
  {
   "cell_type": "code",
   "execution_count": 2,
   "metadata": {},
   "outputs": [
    {
     "name": "stdout",
     "output_type": "stream",
     "text": [
      "63\n"
     ]
    }
   ],
   "source": [
    "import math\n",
    "\n",
    "total = 12578\n",
    "\n",
    "r = math.ceil(total/200)\n",
    "print(r)"
   ]
  }
 ],
 "metadata": {
  "kernelspec": {
   "display_name": "Python 3.10.6 ('env-busca-academica')",
   "language": "python",
   "name": "python3"
  },
  "language_info": {
   "codemirror_mode": {
    "name": "ipython",
    "version": 3
   },
   "file_extension": ".py",
   "mimetype": "text/x-python",
   "name": "python",
   "nbconvert_exporter": "python",
   "pygments_lexer": "ipython3",
   "version": "3.10.6"
  },
  "orig_nbformat": 4,
  "vscode": {
   "interpreter": {
    "hash": "77ac773ab680688953a3f8874b3e1544d40cfc4a91c2e6e9906e4461b2474f5e"
   }
  }
 },
 "nbformat": 4,
 "nbformat_minor": 2
}
